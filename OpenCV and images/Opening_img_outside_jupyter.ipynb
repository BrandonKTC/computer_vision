{
 "cells": [
  {
   "cell_type": "markdown",
   "id": "75a9dd78",
   "metadata": {},
   "source": [
    "# Opening Image Files with OpenCV"
   ]
  },
  {
   "cell_type": "markdown",
   "id": "e87f7d5b",
   "metadata": {},
   "source": [
    "OpenCV can open images in separate outside windows when you run a .py script. Keep in mind, at the moment, this often doesn't work with the iPython kernel in a Jupyter notebook for some complex reasons. (It's an open issue on the github page since solutions stil vary drastically depending on the user's OS).\n",
    "\n",
    "Let's explore how we can use Open CV to open files in a separate window. Typically you would run these sort of commands as a script! So we've also included a .py script that goes along with this lecture."
   ]
  },
  {
   "cell_type": "code",
   "execution_count": 1,
   "id": "6795f616",
   "metadata": {},
   "outputs": [
    {
     "data": {
      "text/plain": [
       "27"
      ]
     },
     "execution_count": 1,
     "metadata": {},
     "output_type": "execute_result"
    }
   ],
   "source": [
    "import cv2\n",
    "\n",
    "img = cv2.imread('../DATA/00-puppy.jpg')\n",
    "\n",
    "cv2.imshow('Puppy',img)\n",
    "\n",
    "cv2.waitKey()"
   ]
  }
 ],
 "metadata": {
  "kernelspec": {
   "display_name": "Python 3 (ipykernel)",
   "language": "python",
   "name": "python3"
  },
  "language_info": {
   "codemirror_mode": {
    "name": "ipython",
    "version": 3
   },
   "file_extension": ".py",
   "mimetype": "text/x-python",
   "name": "python",
   "nbconvert_exporter": "python",
   "pygments_lexer": "ipython3",
   "version": "3.11.6"
  }
 },
 "nbformat": 4,
 "nbformat_minor": 5
}
