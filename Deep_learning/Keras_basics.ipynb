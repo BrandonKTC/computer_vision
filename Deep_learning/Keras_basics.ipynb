{
 "cells": [
  {
   "cell_type": "markdown",
   "id": "9e1f5eec",
   "metadata": {},
   "source": [
    "# Keras Basics\n",
    "\n",
    "Welcome to the section on deep learning! We'll be using Keras with a TensorFlow backend to perform our deep learning operations.\n",
    "\n",
    "This means we should get familiar with some Keras fundamentals and basics!\n",
    "\n",
    "## Imports"
   ]
  },
  {
   "cell_type": "code",
   "execution_count": 1,
   "id": "2c4fd502",
   "metadata": {},
   "outputs": [],
   "source": [
    "import numpy as np\n",
    "import pandas as pd"
   ]
  },
  {
   "cell_type": "markdown",
   "id": "4bd346dc",
   "metadata": {},
   "source": [
    "## Dataset\n",
    "\n",
    "We will use the Bank Authentication Data Set to start off with. This data set consists of various image features derived from images that had 400 x 400 pixels. You should note **the data itself that we will be using ARE NOT ACTUAL IMAGES**, they are **features** of images. In the next lecture we will cover grabbing and working with image data with Keras. This notebook focuses on learning the basics of building a neural network with Keras.\n",
    "\n",
    "_____\n",
    "More info on the data set:\n",
    "\n",
    "https://archive.ics.uci.edu/ml/datasets/banknote+authentication\n",
    "\n",
    "Data were extracted from images that were taken from genuine and forged banknote-like specimens. For digitization, an industrial camera usually used for print inspection was used. The final images have 400x 400 pixels. Due to the object lens and distance to the investigated object gray-scale pictures with a resolution of about 660 dpi were gained. Wavelet Transform tool were used to extract features from images.\n",
    "\n",
    "\n",
    "Attribute Information:\n",
    "\n",
    "0. variance of Wavelet Transformed image (continuous) \n",
    "1. skewness of Wavelet Transformed image (continuous) \n",
    "2. curtosis of Wavelet Transformed image (continuous) \n",
    "3. entropy of image (continuous) \n",
    "4. class (integer) \n",
    "\n",
    "## Reading in the Data Set"
   ]
  },
  {
   "cell_type": "code",
   "execution_count": 2,
   "id": "fb989c27",
   "metadata": {},
   "outputs": [
    {
     "data": {
      "text/html": [
       "<div>\n",
       "<style scoped>\n",
       "    .dataframe tbody tr th:only-of-type {\n",
       "        vertical-align: middle;\n",
       "    }\n",
       "\n",
       "    .dataframe tbody tr th {\n",
       "        vertical-align: top;\n",
       "    }\n",
       "\n",
       "    .dataframe thead th {\n",
       "        text-align: right;\n",
       "    }\n",
       "</style>\n",
       "<table border=\"1\" class=\"dataframe\">\n",
       "  <thead>\n",
       "    <tr style=\"text-align: right;\">\n",
       "      <th></th>\n",
       "      <th>0</th>\n",
       "      <th>1</th>\n",
       "      <th>2</th>\n",
       "      <th>3</th>\n",
       "      <th>4</th>\n",
       "    </tr>\n",
       "  </thead>\n",
       "  <tbody>\n",
       "    <tr>\n",
       "      <th>0</th>\n",
       "      <td>3.62160</td>\n",
       "      <td>8.6661</td>\n",
       "      <td>-2.8073</td>\n",
       "      <td>-0.44699</td>\n",
       "      <td>0</td>\n",
       "    </tr>\n",
       "    <tr>\n",
       "      <th>1</th>\n",
       "      <td>4.54590</td>\n",
       "      <td>8.1674</td>\n",
       "      <td>-2.4586</td>\n",
       "      <td>-1.46210</td>\n",
       "      <td>0</td>\n",
       "    </tr>\n",
       "    <tr>\n",
       "      <th>2</th>\n",
       "      <td>3.86600</td>\n",
       "      <td>-2.6383</td>\n",
       "      <td>1.9242</td>\n",
       "      <td>0.10645</td>\n",
       "      <td>0</td>\n",
       "    </tr>\n",
       "    <tr>\n",
       "      <th>3</th>\n",
       "      <td>3.45660</td>\n",
       "      <td>9.5228</td>\n",
       "      <td>-4.0112</td>\n",
       "      <td>-3.59440</td>\n",
       "      <td>0</td>\n",
       "    </tr>\n",
       "    <tr>\n",
       "      <th>4</th>\n",
       "      <td>0.32924</td>\n",
       "      <td>-4.4552</td>\n",
       "      <td>4.5718</td>\n",
       "      <td>-0.98880</td>\n",
       "      <td>0</td>\n",
       "    </tr>\n",
       "  </tbody>\n",
       "</table>\n",
       "</div>"
      ],
      "text/plain": [
       "         0       1       2        3  4\n",
       "0  3.62160  8.6661 -2.8073 -0.44699  0\n",
       "1  4.54590  8.1674 -2.4586 -1.46210  0\n",
       "2  3.86600 -2.6383  1.9242  0.10645  0\n",
       "3  3.45660  9.5228 -4.0112 -3.59440  0\n",
       "4  0.32924 -4.4552  4.5718 -0.98880  0"
      ]
     },
     "execution_count": 2,
     "metadata": {},
     "output_type": "execute_result"
    }
   ],
   "source": [
    "data = pd.read_csv('../DATA/bank_note_data.txt', header=None)\n",
    "data.head()"
   ]
  },
  {
   "cell_type": "code",
   "execution_count": 3,
   "id": "b4d29734",
   "metadata": {},
   "outputs": [],
   "source": [
    "X = data.drop(4, axis=1)\n",
    "y = data[4]"
   ]
  },
  {
   "cell_type": "code",
   "execution_count": 4,
   "id": "41950e31",
   "metadata": {},
   "outputs": [
    {
     "data": {
      "text/plain": [
       "0       0\n",
       "1       0\n",
       "2       0\n",
       "3       0\n",
       "4       0\n",
       "       ..\n",
       "1367    1\n",
       "1368    1\n",
       "1369    1\n",
       "1370    1\n",
       "1371    1\n",
       "Name: 4, Length: 1372, dtype: int64"
      ]
     },
     "execution_count": 4,
     "metadata": {},
     "output_type": "execute_result"
    }
   ],
   "source": [
    "y"
   ]
  },
  {
   "cell_type": "markdown",
   "id": "7f2c4bba",
   "metadata": {},
   "source": [
    "## Split the Data into Training and Test\n",
    "\n",
    "Its time to split the data into a train/test set. Keep in mind, sometimes people like to split 3 ways, train/test/validation. We'll keep things simple for now. **Remember to check out the video explanation as to why we split and what all the parameters mean!**"
   ]
  },
  {
   "cell_type": "code",
   "execution_count": 5,
   "id": "1e8f1a8e",
   "metadata": {},
   "outputs": [],
   "source": [
    "from sklearn.model_selection import train_test_split"
   ]
  },
  {
   "cell_type": "code",
   "execution_count": 6,
   "id": "85c35a57",
   "metadata": {},
   "outputs": [],
   "source": [
    " X_train, X_test, y_train, y_test = train_test_split(X,y, test_size=.3 , random_state=42)"
   ]
  },
  {
   "cell_type": "code",
   "execution_count": 7,
   "id": "55892e57",
   "metadata": {},
   "outputs": [
    {
     "data": {
      "text/plain": [
       "((960, 4), (412, 4), (960,), (412,))"
      ]
     },
     "execution_count": 7,
     "metadata": {},
     "output_type": "execute_result"
    }
   ],
   "source": [
    "X_train.shape, X_test.shape, y_train.shape , y_test.shape"
   ]
  },
  {
   "cell_type": "markdown",
   "id": "0458f4c7",
   "metadata": {},
   "source": [
    "## Standardizing the Data\n",
    "\n",
    "Usually when using Neural Networks, you will get better performance when you standardize the data. Standardization just means normalizing the values to all fit between a certain range, like 0-1, or -1 to 1.\n",
    "\n",
    "The scikit learn library also provides a nice function for this.\n",
    "\n",
    "http://scikit-learn.org/stable/modules/generated/sklearn.preprocessing.MinMaxScaler.html"
   ]
  },
  {
   "cell_type": "code",
   "execution_count": 8,
   "id": "25bdadee",
   "metadata": {},
   "outputs": [],
   "source": [
    "from sklearn.preprocessing import MinMaxScaler"
   ]
  },
  {
   "cell_type": "code",
   "execution_count": 9,
   "id": "bc5dd81a",
   "metadata": {},
   "outputs": [],
   "source": [
    "scaler = MinMaxScaler()"
   ]
  },
  {
   "cell_type": "code",
   "execution_count": 10,
   "id": "18dd54b7",
   "metadata": {},
   "outputs": [],
   "source": [
    "scaler = scaler.fit(X_train)"
   ]
  },
  {
   "cell_type": "code",
   "execution_count": 11,
   "id": "496627d1",
   "metadata": {},
   "outputs": [],
   "source": [
    "scaled_X_test = scaler.transform(X_test)\n",
    "scaled_X_train = scaler.transform(X_train)"
   ]
  },
  {
   "cell_type": "code",
   "execution_count": 12,
   "id": "e3124cb5",
   "metadata": {},
   "outputs": [
    {
     "data": {
      "text/plain": [
       "1.0000000000000002"
      ]
     },
     "execution_count": 12,
     "metadata": {},
     "output_type": "execute_result"
    }
   ],
   "source": [
    "scaled_X_train.max()"
   ]
  },
  {
   "cell_type": "code",
   "execution_count": 13,
   "id": "4841ee71",
   "metadata": {},
   "outputs": [
    {
     "data": {
      "text/plain": [
       "array([[4.66818828e-01, 5.68406755e-01, 1.65429714e-01, 6.93101291e-01],\n",
       "       [5.41994245e-01, 6.41114774e-01, 3.25546495e-02, 4.20616766e-01],\n",
       "       [5.84651220e-01, 8.28495736e-01, 1.66499200e-01, 6.43963513e-01],\n",
       "       ...,\n",
       "       [4.11050776e-04, 8.63104170e-01, 2.34046756e-01, 3.74261253e-01],\n",
       "       [2.58284115e-01, 6.16029366e-01, 2.33861752e-01, 7.02643151e-01],\n",
       "       [2.65661395e-01, 2.44444278e-01, 7.20316361e-01, 7.44775785e-01]])"
      ]
     },
     "execution_count": 13,
     "metadata": {},
     "output_type": "execute_result"
    }
   ],
   "source": [
    "scaled_X_train"
   ]
  },
  {
   "cell_type": "code",
   "execution_count": 14,
   "id": "25643722",
   "metadata": {},
   "outputs": [
    {
     "data": {
      "text/plain": [
       "1.02679563427227"
      ]
     },
     "execution_count": 14,
     "metadata": {},
     "output_type": "execute_result"
    }
   ],
   "source": [
    "scaled_X_test.max()"
   ]
  },
  {
   "cell_type": "code",
   "execution_count": 15,
   "id": "debc31f9",
   "metadata": {},
   "outputs": [
    {
     "data": {
      "text/plain": [
       "0.0"
      ]
     },
     "execution_count": 15,
     "metadata": {},
     "output_type": "execute_result"
    }
   ],
   "source": [
    "scaled_X_train.min()"
   ]
  },
  {
   "cell_type": "code",
   "execution_count": 16,
   "id": "fe94b115",
   "metadata": {},
   "outputs": [
    {
     "data": {
      "text/plain": [
       "-0.0010694864308909147"
      ]
     },
     "execution_count": 16,
     "metadata": {},
     "output_type": "execute_result"
    }
   ],
   "source": [
    "scaled_X_test.min()"
   ]
  },
  {
   "cell_type": "markdown",
   "id": "1ad6660f",
   "metadata": {},
   "source": [
    "## Building the Network with Keras\n",
    "\n",
    "Let's build a simple neural network!"
   ]
  },
  {
   "cell_type": "code",
   "execution_count": 17,
   "id": "79f1109c",
   "metadata": {},
   "outputs": [],
   "source": [
    "from keras.models import Sequential\n",
    "from keras.layers import Dense"
   ]
  },
  {
   "cell_type": "code",
   "execution_count": 18,
   "id": "51810c72",
   "metadata": {},
   "outputs": [],
   "source": [
    "# Creates model\n",
    "model = Sequential()\n",
    "# INPUT LAYER\n",
    "model.add(Dense(4, input_dim=4, activation='relu'))\n",
    "# HIDDEN LAYER\n",
    "model.add(Dense(8, activation='relu'))\n",
    "# OUTPUT LAYER\n",
    "model.add(Dense(1, activation='sigmoid'))"
   ]
  },
  {
   "cell_type": "markdown",
   "id": "f1a33177",
   "metadata": {},
   "source": [
    "### Compile Model"
   ]
  },
  {
   "cell_type": "code",
   "execution_count": 19,
   "id": "b04d82ef",
   "metadata": {},
   "outputs": [],
   "source": [
    "model.compile(loss='binary_crossentropy', optimizer='adam', metrics=['accuracy'])"
   ]
  },
  {
   "cell_type": "markdown",
   "id": "51e901d4",
   "metadata": {},
   "source": [
    "## Fit (Train) the Model"
   ]
  },
  {
   "cell_type": "code",
   "execution_count": 20,
   "id": "63dba978",
   "metadata": {},
   "outputs": [
    {
     "name": "stdout",
     "output_type": "stream",
     "text": [
      "Epoch 1/50\n",
      "30/30 - 0s - loss: 0.6874 - accuracy: 0.5552 - 142ms/epoch - 5ms/step\n",
      "Epoch 2/50\n",
      "30/30 - 0s - loss: 0.6780 - accuracy: 0.5552 - 12ms/epoch - 385us/step\n",
      "Epoch 3/50\n",
      "30/30 - 0s - loss: 0.6710 - accuracy: 0.5552 - 11ms/epoch - 370us/step\n",
      "Epoch 4/50\n",
      "30/30 - 0s - loss: 0.6607 - accuracy: 0.5552 - 11ms/epoch - 380us/step\n",
      "Epoch 5/50\n",
      "30/30 - 0s - loss: 0.6459 - accuracy: 0.5750 - 11ms/epoch - 378us/step\n",
      "Epoch 6/50\n",
      "30/30 - 0s - loss: 0.6288 - accuracy: 0.6083 - 11ms/epoch - 351us/step\n",
      "Epoch 7/50\n",
      "30/30 - 0s - loss: 0.6081 - accuracy: 0.6896 - 11ms/epoch - 351us/step\n",
      "Epoch 8/50\n",
      "30/30 - 0s - loss: 0.5880 - accuracy: 0.7250 - 11ms/epoch - 377us/step\n",
      "Epoch 9/50\n",
      "30/30 - 0s - loss: 0.5663 - accuracy: 0.8292 - 11ms/epoch - 377us/step\n",
      "Epoch 10/50\n",
      "30/30 - 0s - loss: 0.5439 - accuracy: 0.8521 - 11ms/epoch - 369us/step\n",
      "Epoch 11/50\n",
      "30/30 - 0s - loss: 0.5195 - accuracy: 0.8917 - 11ms/epoch - 383us/step\n",
      "Epoch 12/50\n",
      "30/30 - 0s - loss: 0.4952 - accuracy: 0.9062 - 11ms/epoch - 373us/step\n",
      "Epoch 13/50\n",
      "30/30 - 0s - loss: 0.4709 - accuracy: 0.9083 - 11ms/epoch - 356us/step\n",
      "Epoch 14/50\n",
      "30/30 - 0s - loss: 0.4467 - accuracy: 0.9135 - 11ms/epoch - 380us/step\n",
      "Epoch 15/50\n",
      "30/30 - 0s - loss: 0.4243 - accuracy: 0.9135 - 11ms/epoch - 364us/step\n",
      "Epoch 16/50\n",
      "30/30 - 0s - loss: 0.4031 - accuracy: 0.9083 - 11ms/epoch - 354us/step\n",
      "Epoch 17/50\n",
      "30/30 - 0s - loss: 0.3828 - accuracy: 0.9135 - 12ms/epoch - 393us/step\n",
      "Epoch 18/50\n",
      "30/30 - 0s - loss: 0.3645 - accuracy: 0.9135 - 11ms/epoch - 373us/step\n",
      "Epoch 19/50\n",
      "30/30 - 0s - loss: 0.3472 - accuracy: 0.9187 - 11ms/epoch - 372us/step\n",
      "Epoch 20/50\n",
      "30/30 - 0s - loss: 0.3315 - accuracy: 0.9146 - 10ms/epoch - 347us/step\n",
      "Epoch 21/50\n",
      "30/30 - 0s - loss: 0.3180 - accuracy: 0.9167 - 11ms/epoch - 366us/step\n",
      "Epoch 22/50\n",
      "30/30 - 0s - loss: 0.3044 - accuracy: 0.9187 - 11ms/epoch - 369us/step\n",
      "Epoch 23/50\n",
      "30/30 - 0s - loss: 0.2923 - accuracy: 0.9260 - 10ms/epoch - 340us/step\n",
      "Epoch 24/50\n",
      "30/30 - 0s - loss: 0.2805 - accuracy: 0.9240 - 11ms/epoch - 355us/step\n",
      "Epoch 25/50\n",
      "30/30 - 0s - loss: 0.2709 - accuracy: 0.9260 - 11ms/epoch - 372us/step\n",
      "Epoch 26/50\n",
      "30/30 - 0s - loss: 0.2597 - accuracy: 0.9375 - 11ms/epoch - 354us/step\n",
      "Epoch 27/50\n",
      "30/30 - 0s - loss: 0.2506 - accuracy: 0.9292 - 11ms/epoch - 383us/step\n",
      "Epoch 28/50\n",
      "30/30 - 0s - loss: 0.2409 - accuracy: 0.9385 - 12ms/epoch - 390us/step\n",
      "Epoch 29/50\n",
      "30/30 - 0s - loss: 0.2325 - accuracy: 0.9375 - 11ms/epoch - 356us/step\n",
      "Epoch 30/50\n",
      "30/30 - 0s - loss: 0.2244 - accuracy: 0.9417 - 11ms/epoch - 361us/step\n",
      "Epoch 31/50\n",
      "30/30 - 0s - loss: 0.2166 - accuracy: 0.9396 - 11ms/epoch - 364us/step\n",
      "Epoch 32/50\n",
      "30/30 - 0s - loss: 0.2100 - accuracy: 0.9438 - 11ms/epoch - 369us/step\n",
      "Epoch 33/50\n",
      "30/30 - 0s - loss: 0.2031 - accuracy: 0.9427 - 10ms/epoch - 348us/step\n",
      "Epoch 34/50\n",
      "30/30 - 0s - loss: 0.1966 - accuracy: 0.9427 - 11ms/epoch - 366us/step\n",
      "Epoch 35/50\n",
      "30/30 - 0s - loss: 0.1906 - accuracy: 0.9438 - 13ms/epoch - 424us/step\n",
      "Epoch 36/50\n",
      "30/30 - 0s - loss: 0.1857 - accuracy: 0.9448 - 11ms/epoch - 358us/step\n",
      "Epoch 37/50\n",
      "30/30 - 0s - loss: 0.1791 - accuracy: 0.9469 - 11ms/epoch - 367us/step\n",
      "Epoch 38/50\n",
      "30/30 - 0s - loss: 0.1742 - accuracy: 0.9458 - 11ms/epoch - 379us/step\n",
      "Epoch 39/50\n",
      "30/30 - 0s - loss: 0.1695 - accuracy: 0.9479 - 11ms/epoch - 369us/step\n",
      "Epoch 40/50\n",
      "30/30 - 0s - loss: 0.1646 - accuracy: 0.9427 - 11ms/epoch - 352us/step\n",
      "Epoch 41/50\n",
      "30/30 - 0s - loss: 0.1597 - accuracy: 0.9500 - 11ms/epoch - 373us/step\n",
      "Epoch 42/50\n",
      "30/30 - 0s - loss: 0.1556 - accuracy: 0.9490 - 11ms/epoch - 365us/step\n",
      "Epoch 43/50\n",
      "30/30 - 0s - loss: 0.1525 - accuracy: 0.9490 - 11ms/epoch - 362us/step\n",
      "Epoch 44/50\n",
      "30/30 - 0s - loss: 0.1475 - accuracy: 0.9490 - 11ms/epoch - 370us/step\n",
      "Epoch 45/50\n",
      "30/30 - 0s - loss: 0.1440 - accuracy: 0.9479 - 11ms/epoch - 359us/step\n",
      "Epoch 46/50\n",
      "30/30 - 0s - loss: 0.1405 - accuracy: 0.9469 - 11ms/epoch - 353us/step\n",
      "Epoch 47/50\n",
      "30/30 - 0s - loss: 0.1364 - accuracy: 0.9521 - 11ms/epoch - 377us/step\n",
      "Epoch 48/50\n",
      "30/30 - 0s - loss: 0.1331 - accuracy: 0.9500 - 12ms/epoch - 397us/step\n",
      "Epoch 49/50\n",
      "30/30 - 0s - loss: 0.1301 - accuracy: 0.9542 - 12ms/epoch - 399us/step\n",
      "Epoch 50/50\n",
      "30/30 - 0s - loss: 0.1270 - accuracy: 0.9542 - 11ms/epoch - 360us/step\n"
     ]
    },
    {
     "data": {
      "text/plain": [
       "<keras.src.callbacks.History at 0x157a87a50>"
      ]
     },
     "execution_count": 20,
     "metadata": {},
     "output_type": "execute_result"
    }
   ],
   "source": [
    "model.fit(scaled_X_train, y_train, epochs=50, verbose=2)"
   ]
  },
  {
   "cell_type": "code",
   "execution_count": 21,
   "id": "20f364f1",
   "metadata": {},
   "outputs": [
    {
     "data": {
      "text/plain": [
       "['loss', 'accuracy']"
      ]
     },
     "execution_count": 21,
     "metadata": {},
     "output_type": "execute_result"
    }
   ],
   "source": [
    "model.metrics_names"
   ]
  },
  {
   "cell_type": "markdown",
   "id": "cfd36628",
   "metadata": {},
   "source": [
    "# Evaluating Model Performance"
   ]
  },
  {
   "cell_type": "code",
   "execution_count": 22,
   "id": "68a69764",
   "metadata": {},
   "outputs": [],
   "source": [
    "from sklearn.metrics import ConfusionMatrixDisplay, classification_report"
   ]
  },
  {
   "cell_type": "code",
   "execution_count": 23,
   "id": "f67f8f88",
   "metadata": {
    "scrolled": true
   },
   "outputs": [
    {
     "name": "stdout",
     "output_type": "stream",
     "text": [
      "13/13 [==============================] - 0s 391us/step\n"
     ]
    }
   ],
   "source": [
    "preds = np.round(model.predict(scaled_X_test))"
   ]
  },
  {
   "cell_type": "code",
   "execution_count": 24,
   "id": "7d799b24",
   "metadata": {},
   "outputs": [
    {
     "data": {
      "text/plain": [
       "<sklearn.metrics._plot.confusion_matrix.ConfusionMatrixDisplay at 0x157db2050>"
      ]
     },
     "execution_count": 24,
     "metadata": {},
     "output_type": "execute_result"
    },
    {
     "data": {
      "image/png": "[encoded data removed]",
      "text/plain": [
       "<Figure size 640x480 with 2 Axes>"
      ]
     },
     "metadata": {},
     "output_type": "display_data"
    }
   ],
   "source": [
    "ConfusionMatrixDisplay.from_predictions(y_test, preds)"
   ]
  },
  {
   "cell_type": "code",
   "execution_count": 25,
   "id": "0df2301e",
   "metadata": {},
   "outputs": [
    {
     "name": "stdout",
     "output_type": "stream",
     "text": [
      "              precision    recall  f1-score   support\n",
      "\n",
      "           0       0.95      0.99      0.97       229\n",
      "           1       0.98      0.93      0.96       183\n",
      "\n",
      "    accuracy                           0.96       412\n",
      "   macro avg       0.96      0.96      0.96       412\n",
      "weighted avg       0.96      0.96      0.96       412\n",
      "\n"
     ]
    }
   ],
   "source": [
    "print(classification_report(y_test, preds))"
   ]
  }
 ],
 "metadata": {
  "kernelspec": {
   "display_name": "Python 3 (ipykernel)",
   "language": "python",
   "name": "python3"
  },
  "language_info": {
   "codemirror_mode": {
    "name": "ipython",
    "version": 3
   },
   "file_extension": ".py",
   "mimetype": "text/x-python",
   "name": "python",
   "nbconvert_exporter": "python",
   "pygments_lexer": "ipython3",
   "version": "3.11.6"
  }
 },
 "nbformat": 4,
 "nbformat_minor": 5
}
