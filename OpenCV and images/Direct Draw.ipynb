{
 "cells": [
  {
   "cell_type": "markdown",
   "id": "38326a23",
   "metadata": {},
   "source": [
    "# Direct Drawing with Mouse"
   ]
  },
  {
   "cell_type": "markdown",
   "id": "c22cece8",
   "metadata": {},
   "source": [
    "## SCRIPT 1: Connecting a Function for Drawing"
   ]
  },
  {
   "cell_type": "code",
   "execution_count": 1,
   "id": "a91a3c1f",
   "metadata": {},
   "outputs": [],
   "source": [
    "import cv2\n",
    "import numpy as np\n",
    "\n",
    "\n",
    "##############\n",
    "## FUNCTION ##\n",
    "##############\n",
    "\n",
    "def draw_circle(event, x, y, flags, param):\n",
    "    \n",
    "    if event == cv2.EVENT_LBUTTONDOWN:\n",
    "        \n",
    "        cv2.circle(img, (x,y), 100, (0,255,0), -1)\n",
    "\n",
    "cv2.namedWindow('my_drawing')\n",
    "\n",
    "cv2.setMouseCallback('my_drawing', draw_circle)\n",
    "\n",
    "###############################\n",
    "## SHOWING IMAGE WITH OPENCV ##\n",
    "###############################\n",
    "\n",
    "img = np.zeros((512,512,3), dtype=np.int8)\n",
    "\n",
    "while True:\n",
    "    \n",
    "    cv2.imshow('my_drawing',img)\n",
    "    \n",
    "    if cv2.waitKey(20) & 0XFF == 27:\n",
    "        break\n",
    "        \n",
    "cv2.destroyAllWindows()"
   ]
  },
  {
   "cell_type": "markdown",
   "id": "be320741",
   "metadata": {},
   "source": [
    "## SCRIPT 2: Adding Functionality with Event Choices"
   ]
  },
  {
   "cell_type": "code",
   "execution_count": 3,
   "id": "7d4d9457",
   "metadata": {},
   "outputs": [],
   "source": [
    "import cv2\n",
    "import numppy as np\n",
    "\n",
    "# FUNCTION\n",
    "\n",
    "def draw_circle(event, x,y, flags, param):\n",
    "    \n",
    "    if event == cv2.EVENT_LBUTTONDOWN:\n",
    "        \n",
    "        cv2.circle(img, (x,y), 100, (0,255,0), -1)\n",
    "    \n",
    "    elif event == cv2.EVENT_RBUTTONDOWN:\n",
    "        \n",
    "        cv2.circle(img, (x,y), 100, (0,0,255), -1)\n",
    "\n",
    "cv2.namedWindow('draw2')\n",
    "cv2.setMouseCallback('draw2', draw_circle)\n",
    "\n",
    "# SHOWING IMG WITH OPENCV\n",
    "\n",
    "img = np.zeros((512,512,3), dtype=np.int8)\n",
    "\n",
    "while True:\n",
    "    \n",
    "    cv2.imshow('draw2', img)\n",
    "    \n",
    "    if cv2.waitKey(20) & 0XFF == 27:\n",
    "        \n",
    "        break\n",
    "\n",
    "cv2.destroyAllWindows()"
   ]
  },
  {
   "cell_type": "markdown",
   "id": "1c8e153b",
   "metadata": {},
   "source": [
    "# SCRIPT 3: Dragging with Mouse"
   ]
  },
  {
   "cell_type": "code",
   "execution_count": 4,
   "id": "06cff2d6",
   "metadata": {},
   "outputs": [],
   "source": [
    "import cv2\n",
    "import numpy as np\n",
    "\n",
    "# VARIABLES\n",
    "\n",
    "# True while mouse button down, False while mouse button UP\n",
    "drawing = False\n",
    "ix = -1\n",
    "iy = -1\n",
    "\n",
    "# FUNCTION\n",
    "\n",
    "def draw_rectangle(event, x,y, flags, param):\n",
    "    \n",
    "    global ix, iy, drawing\n",
    "    \n",
    "    if event == cv2.EVENT_LBUTTONDOWN:\n",
    "        \n",
    "        drawing = True\n",
    "        \n",
    "        ix, iy = x, y\n",
    "    \n",
    "    elif event == cv2.EVENT_MOUSEMOVE:\n",
    "        \n",
    "        if drawing == True:\n",
    "    \n",
    "            cv2.rectangle(img, pt1=(ix,iy), pt2=(x,y), color=(0,0,255), thickness=-1)\n",
    "    \n",
    "    elif event == cv2.EVENT_LBUTTONUP:\n",
    "        \n",
    "        drawing = False\n",
    "        \n",
    "        cv2.rectangle(img, (ix,iy), (x,y), (0,0,255), -1)\n",
    "    \n",
    "cv2.namedWindow('draw3')\n",
    "cv2.setMouseCallback('draw3', draw_rectangle)\n",
    "\n",
    "# SHOWING IMG WITH OPENCV\n",
    "\n",
    "img = np.zeros((512,512,3), dtype=np.int8)\n",
    "\n",
    "while True:\n",
    "    \n",
    "    cv2.imshow('draw3',img)\n",
    "    \n",
    "    # CHECKS FOR esc Key\n",
    "    if cv2.waitKey(1) & 0XFF == 27:\n",
    "        \n",
    "        break\n",
    "\n",
    "cv2.destroyAllWindows()"
   ]
  }
 ],
 "metadata": {
  "kernelspec": {
   "display_name": "Python 3 (ipykernel)",
   "language": "python",
   "name": "python3"
  },
  "language_info": {
   "codemirror_mode": {
    "name": "ipython",
    "version": 3
   },
   "file_extension": ".py",
   "mimetype": "text/x-python",
   "name": "python",
   "nbconvert_exporter": "python",
   "pygments_lexer": "ipython3",
   "version": "3.11.6"
  }
 },
 "nbformat": 4,
 "nbformat_minor": 5
}
