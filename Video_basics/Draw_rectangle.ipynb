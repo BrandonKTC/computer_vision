{
 "cells": [
  {
   "cell_type": "markdown",
   "id": "4dcdc695",
   "metadata": {},
   "source": [
    "# Drawing on Video\n",
    "\n",
    "Often as we analyze video using techniques like object detection or facial recognition, we'll want to draw an image on the video, like a box around a face.\n",
    "\n",
    "Let's learn the basics of drawing on video with OpenCV!"
   ]
  },
  {
   "cell_type": "code",
   "execution_count": 1,
   "id": "62c19c5a",
   "metadata": {},
   "outputs": [],
   "source": [
    "import cv2\n",
    "\n",
    "cap = cv2.VideoCapture(0)\n",
    "\n",
    "width = int(cap.get(cv2.CAP_PROP_FRAME_WIDTH))\n",
    "height = int(cap.get(cv2.CAP_PROP_FRAME_HEIGHT))\n",
    "\n",
    "# TOP LEFT CORNER\n",
    "x = width // 2\n",
    "y = height // 2\n",
    "\n",
    "# width and height of RECTANGLE\n",
    "w = width // 4\n",
    "h = height // 4\n",
    "\n",
    "# BOTTOM RIGHT x + w , y + h\n",
    "\n",
    "while True:\n",
    "    \n",
    "    ret, frame = cap.read()\n",
    "    \n",
    "    cv2.rectangle(frame, (x,y), (x+w, y+h), color=(0,0,255), thickness=4)\n",
    "    \n",
    "    cv2.imshow('frame',frame)\n",
    "    \n",
    "    if cv2.waitKey(1) & 0XFF == ord('q'):\n",
    "        break\n",
    "\n",
    "cap.release()\n",
    "cv2.destroyAllWindows()"
   ]
  },
  {
   "cell_type": "markdown",
   "id": "d2b8db9c",
   "metadata": {},
   "source": [
    "## Interactive Drawing on Video\n",
    "\n",
    "We won't really use this as often, but let's go through it just in case!"
   ]
  },
  {
   "cell_type": "code",
   "execution_count": 2,
   "id": "ba6823ce",
   "metadata": {},
   "outputs": [],
   "source": [
    "import cv2\n",
    "\n",
    "## CALLBACK FUNCTION RECTANGLE\n",
    "def draw_rectangle(event, x,y, flags, param):\n",
    "    \n",
    "    global pt1, pt2, botRight_clicked, topLeft_clicked\n",
    "    \n",
    "    if event == cv2.EVENT_LBUTTONDOWN:\n",
    "        \n",
    "        # RESET RECTANGLE\n",
    "        if topLeft_clicked == True and botRight_clicked == True:\n",
    "            pt1 = (0,0)\n",
    "            pt2 = (0,0)\n",
    "            topLeft_clicked = False\n",
    "            botRight_clicked = False\n",
    "        \n",
    "        if topLeft_clicked == False:\n",
    "            pt1 = (x,y)\n",
    "            topLeft_clicked = True\n",
    "            \n",
    "        elif botRight_clicked == False:\n",
    "            pt2 = (x,y)\n",
    "            botRight_clicked = True\n",
    "\n",
    "## GLOBAL VARIABLES\n",
    "pt1 = (0,0)\n",
    "pt2 = (0,0)\n",
    "topLeft_clicked = False\n",
    "botRight_clicked = False\n",
    "\n",
    "## CONNECT TO THE CALLBACK\n",
    "cap = cv2.VideoCapture(0)\n",
    "\n",
    "cv2.namedWindow('test')\n",
    "cv2.setMouseCallback('test', draw_rectangle)\n",
    "\n",
    "while True:\n",
    "    \n",
    "    ret, frame = cap.read()\n",
    "    \n",
    "    # DRAWING ON THE FRAME BASED OFF THE GLOBAL VARIABLES\n",
    "    if topLeft_clicked:\n",
    "        cv2.circle(frame,center=pt1, radius=5,color=(0,0,255), thickness=-1)\n",
    "    \n",
    "    if topLeft_clicked and botRight_clicked:\n",
    "        cv2.rectangle(frame, pt1, pt2, (0,0,255), 4)\n",
    "    \n",
    "    cv2.imshow('test',frame)\n",
    "    \n",
    "    if cv2.waitKey(1) & 0XFF == ord('q'):\n",
    "        break\n",
    "        \n",
    "cap.release()\n",
    "cv2.destroyAllWindows()"
   ]
  }
 ],
 "metadata": {
  "kernelspec": {
   "display_name": "Python 3 (ipykernel)",
   "language": "python",
   "name": "python3"
  },
  "language_info": {
   "codemirror_mode": {
    "name": "ipython",
    "version": 3
   },
   "file_extension": ".py",
   "mimetype": "text/x-python",
   "name": "python",
   "nbconvert_exporter": "python",
   "pygments_lexer": "ipython3",
   "version": "3.11.6"
  }
 },
 "nbformat": 4,
 "nbformat_minor": 5
}
