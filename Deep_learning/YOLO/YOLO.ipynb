{
 "cells": [
  {
   "cell_type": "code",
   "execution_count": 2,
   "id": "db2af005",
   "metadata": {},
   "outputs": [],
   "source": [
    "from ultralytics import YOLO"
   ]
  },
  {
   "cell_type": "code",
   "execution_count": 3,
   "id": "b2fd18c2",
   "metadata": {},
   "outputs": [],
   "source": [
    "model = YOLO('yolov8n.pt')"
   ]
  },
  {
   "cell_type": "code",
   "execution_count": null,
   "id": "ce21a787",
   "metadata": {},
   "outputs": [],
   "source": [
    "import cv2\n",
    "import argparse\n",
    "\n",
    "from ultralytics import YOLO\n",
    "import supervision as sv \n",
    "\n",
    "def parse_arguments() -> argparse.Namespace:\n",
    "\n",
    "    parser = argparse.ArgumentParser(description='YOLO v8')\n",
    "    parser.add_argument(\n",
    "        \"--webcam-resolution\",\n",
    "        default=[1280,720],\n",
    "        nargs=2,\n",
    "        type=int,\n",
    "    )\n",
    "    args = parser.parse_args()\n",
    "    return args\n",
    "\n",
    "def main():\n",
    "    args = parse_arguments()\n",
    "    frame_width, frame_height = args.webcam_resolution\n",
    "\n",
    "    cap = cv2.VideoCapture(0)\n",
    "    cap.set(cv2.CAP_PROP_FRAME_WIDTH, frame_width)\n",
    "    cap.set(cv2.CAP_PROP_FRAME_HEIGHT, frame_height)\n",
    "    \n",
    "    model = YOLO('yolov8n.pt')\n",
    "\n",
    "    box_annotator = sv.BoxAnnotator(\n",
    "        thickness=2,\n",
    "        text_thickness=2,\n",
    "        text_scale=1,\n",
    "    ) \n",
    "\n",
    "    while True:\n",
    "\n",
    "        ret, frame = cap.read()\n",
    "\n",
    "        result = model(frame)[0]\n",
    "        detections = sv.Detections.from_ultralytics(result)\n",
    "\n",
    "        labels = [ f\"{model.model.names[class_id]}\" for _, _, _, class_id, _ in detections ]\n",
    "\n",
    "        annotated_frame = box_annotator.annotate(scene=frame.copy(),detections=detections, labels=labels)\n",
    "    \n",
    "        cv2.imshow('yolov8', annotated_frame)\n",
    "\n",
    "        if cv2.waitKey(30) & 0xFF == 27:\n",
    "            break\n",
    "            \n",
    "if __name__ == \"__main__\":\n",
    "    main()"
   ]
  }
 ],
 "metadata": {
  "kernelspec": {
   "display_name": "Python 3 (ipykernel)",
   "language": "python",
   "name": "python3"
  },
  "language_info": {
   "codemirror_mode": {
    "name": "ipython",
    "version": 3
   },
   "file_extension": ".py",
   "mimetype": "text/x-python",
   "name": "python",
   "nbconvert_exporter": "python",
   "pygments_lexer": "ipython3",
   "version": "3.11.6"
  }
 },
 "nbformat": 4,
 "nbformat_minor": 5
}
