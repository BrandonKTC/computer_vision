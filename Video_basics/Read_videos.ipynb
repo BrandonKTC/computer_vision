{
 "cells": [
  {
   "cell_type": "markdown",
   "id": "32611d9a",
   "metadata": {},
   "source": [
    "# OpenCV with Video Files\n",
    "\n",
    "Let's now open the recorded video from the last lecture, the file is called \"video_capture.mp4\", although you can use this code to open any major video format."
   ]
  },
  {
   "cell_type": "code",
   "execution_count": 1,
   "id": "c44943a5",
   "metadata": {},
   "outputs": [],
   "source": [
    "import cv2\n",
    "import time\n",
    "\n",
    "# Same command function as streaming, its just now we pass in the file path, nice!\n",
    "cap = cv2.VideoCapture('../DATA/hand_move.mp4')\n",
    "\n",
    "# Frame Per Second\n",
    "fps = cap.get(cv2.CAP_PROP_FRAME_COUNT)\n",
    "\n",
    "# Always a good idea to check if the video was acutally there\n",
    "# If you get an error at this step, triple check your file path!!\n",
    "if cap.isOpened() == False:\n",
    "    print('ERROR FILE NOT FOUND!')\n",
    "    \n",
    "    \n",
    "while cap.isOpened():\n",
    "    \n",
    "    ret, frame = cap.read()\n",
    "    \n",
    "    if ret == True:\n",
    "        time.sleep(1/fps)\n",
    "        cv2.imshow('frame',frame)\n",
    "        \n",
    "        if cv2.waitKey(10) & 0XFF == ord('q'):\n",
    "            break\n",
    "        \n",
    "    # automatically break this whole loop if the video is over.\n",
    "    else:\n",
    "        break\n",
    "        \n",
    "cap.release()\n",
    "cv2.destroyAllWindows()"
   ]
  }
 ],
 "metadata": {
  "kernelspec": {
   "display_name": "Python 3 (ipykernel)",
   "language": "python",
   "name": "python3"
  },
  "language_info": {
   "codemirror_mode": {
    "name": "ipython",
    "version": 3
   },
   "file_extension": ".py",
   "mimetype": "text/x-python",
   "name": "python",
   "nbconvert_exporter": "python",
   "pygments_lexer": "ipython3",
   "version": "3.11.6"
  }
 },
 "nbformat": 4,
 "nbformat_minor": 5
}
